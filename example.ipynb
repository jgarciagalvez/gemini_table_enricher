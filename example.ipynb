{
 "cells": [
  {
   "cell_type": "markdown",
   "metadata": {},
   "source": [
    "### Dependencies"
   ]
  },
  {
   "cell_type": "code",
   "execution_count": null,
   "metadata": {},
   "outputs": [],
   "source": [
    "%load_ext autoreload\n",
    "%autoreload 2"
   ]
  },
  {
   "cell_type": "code",
   "execution_count": null,
   "metadata": {},
   "outputs": [],
   "source": [
    "root_path = r'C:\\Users\\jesus\\Coding-Projects\\gemini_table_enricher'\n",
    "# Change working directory to the parent directory\n",
    "import os\n",
    "\n",
    "os.chdir(root_path)\n",
    "\n",
    "from table_enrichment_tool.enrichment import enrich_table\n",
    "from table_enrichment_tool.gemini_api import available_models\n",
    "from table_enrichment_tool.preprocessing import anonymize_rows, de_anonymize_rows"
   ]
  },
  {
   "cell_type": "markdown",
   "metadata": {},
   "source": [
    "### Available Models on Gemini API"
   ]
  },
  {
   "cell_type": "code",
   "execution_count": null,
   "metadata": {},
   "outputs": [],
   "source": [
    "available_models()"
   ]
  },
  {
   "cell_type": "markdown",
   "metadata": {},
   "source": [
    "### Anonymize Personal Data\n",
    "\n",
    "It is good practice to not submit any personal information to a large language model (LLM) online. Ensure you anonymize your data before sending it to the Gemini API. Use the provided functions to generate unique IDs and remove personal information fields from your data."
   ]
  },
  {
   "cell_type": "code",
   "execution_count": null,
   "metadata": {},
   "outputs": [],
   "source": [
    "SEED = \"4hf7ekdl*djkf$\"\n",
    "PERSONAL_INFO_FIELDS = ['First Name', 'Last Name', 'Email', 'LinkedIn']\n",
    "FIELDS_FOR_ID = ['First Name', 'Email']  # Fields to be used for ID generation\n",
    "\n",
    "# File paths\n",
    "input_file_path = r'data\\destinations.csv'\n",
    "output_file_path = r'data\\anonymized_destinations.csv'\n",
    "\n",
    "# Process the contacts\n",
    "anonymize_rows(input_file_path, output_file_path, SEED, PERSONAL_INFO_FIELDS, FIELDS_FOR_ID, prefix=\"CON\")"
   ]
  },
  {
   "cell_type": "markdown",
   "metadata": {},
   "source": [
    "### Define Task"
   ]
  },
  {
   "cell_type": "code",
   "execution_count": null,
   "metadata": {},
   "outputs": [],
   "source": [
    "from table_enrichment_tool.steps import scrape_url_content, read_csv\n",
    "\n",
    "# Define the steps to apply to each row, to enrich the external data fed to the LLM\n",
    "steps = [\n",
    "    {\n",
    "        'function': scrape_url_content,\n",
    "        'params': {\n",
    "            'urls': 'row[\"Travel Website\"]'\n",
    "        }\n",
    "    }\n",
    "]\n",
    "\n",
    "# Define file paths\n",
    "csv_path = r'data\\anonymized_destinations.csv'\n",
    "output_path = r'data\\anonymized_destinations_enriched.csv'\n",
    "\n",
    "# Fields to be populated by the LLM\n",
    "fields_dict = {\n",
    "    \"Weather\": \"Type:String under 400 characcters, Provide the typical weather for the contacts specified country and time of year they are visiting\",\n",
    "    \n",
    "    \"Cost of Living\": \"Type:String - max 1 sentence, Provide an estimate of the cost of living in the specified country\",\n",
    "    \n",
    "    \"Recommended District\": \"Type:String, Suggest a popular district or area to stay in the specified country based on travel preferences\",\n",
    "    \n",
    "    \"Activities\": \"Type:List, Depending on the contacts preference: Suggest 3 popular activities to do in the specified country\",\n",
    "    \n",
    "    \"Local Cuisine\": \"Type:List, Suggest maximum 3 local foods and dishes to try in the specified country\",\n",
    "    \n",
    "    \"Travel Tips\": \"Type:List, Provide maximum 3 useful travel tips for visiting the specified country\"\n",
    "}\n",
    "\n",
    "\n",
    "# Overall context of the table\n",
    "table_context = \"\"\"\n",
    "This table contains information about customers' travel plans, including countries to visit, duration of stay, and time of year.\n",
    "The goal is to enrich these profiles with personalized travel information such as weather, cost of living, recommended districts, activities, local cuisine, and travel tips.\n",
    "\"\"\"\n",
    "\n",
    "\n",
    "# External data to feed the LLM alongside the rows populated fields in order to generate the rows empty fields\n",
    "external_data = {\n",
    "    \"Preferences\": \"\"\"\n",
    "    Travel Preferences and Activities:\n",
    "\n",
    "    Solo Travelers:\n",
    "        * Prefer quiet, off-the-beaten-path locations.\n",
    "        * Enjoy cultural experiences and historical sites.\n",
    "\n",
    "    Couples:\n",
    "        * Prefer romantic destinations with scenic views.\n",
    "        * Enjoy dining at fine restaurants and relaxing at spas.\n",
    "\n",
    "    Families:\n",
    "        * Prefer family-friendly locations with activities for children.\n",
    "        * Enjoy theme parks, zoos, and outdoor activities.\n",
    "\n",
    "    Adventure Seekers:\n",
    "        * Prefer locations with opportunities for adventure sports.\n",
    "        * Enjoy hiking, mountain climbing, and water sports.\n",
    "\n",
    "    Food Enthusiasts:\n",
    "        * Prefer locations known for their culinary experiences.\n",
    "        * Enjoy food tours, cooking classes, and local markets.\n",
    "    \"\"\"\n",
    "}"
   ]
  },
  {
   "cell_type": "markdown",
   "metadata": {},
   "source": [
    "### Run the Enrichment Tool"
   ]
  },
  {
   "cell_type": "code",
   "execution_count": null,
   "metadata": {},
   "outputs": [],
   "source": [
    "# Select Gemini Model\n",
    "model_name = 'models/gemini-1.5-pro-latest'\n",
    "\n",
    "# Run the update_table function\n",
    "enrich_table(csv_path, output_path, fields_dict, external_data, model_name, steps, batch_size=10, max_workers=4)"
   ]
  },
  {
   "cell_type": "markdown",
   "metadata": {},
   "source": [
    "### De-Anomynize the Data for Local"
   ]
  },
  {
   "cell_type": "code",
   "execution_count": null,
   "metadata": {},
   "outputs": [],
   "source": [
    "PERSONAL_INFO_FIELDS = ['First Name', 'Last Name', 'Email', 'LinkedIn']\n",
    "FIELDS_FOR_ID = ['First Name', 'Email']  # Fields to be used for ID generation\n",
    "\n",
    "# File paths\n",
    "original_path = r'data\\destinations.csv'\n",
    "anonymized_path = r'data\\anonymized_destinations_enriched.csv'\n",
    "output_path = r'data\\destinations_enriched.csv'\n",
    "\n",
    "de_anonymize_rows(original_path, anonymized_path, output_path, PERSONAL_INFO_FIELDS, id_field='ID')"
   ]
  }
 ],
 "metadata": {
  "kernelspec": {
   "display_name": ".venv",
   "language": "python",
   "name": "python3"
  },
  "language_info": {
   "codemirror_mode": {
    "name": "ipython",
    "version": 3
   },
   "file_extension": ".py",
   "mimetype": "text/x-python",
   "name": "python",
   "nbconvert_exporter": "python",
   "pygments_lexer": "ipython3",
   "version": "3.10.11"
  }
 },
 "nbformat": 4,
 "nbformat_minor": 2
}
